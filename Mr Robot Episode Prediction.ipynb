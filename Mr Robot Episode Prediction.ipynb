{
 "cells": [
  {
   "cell_type": "markdown",
   "id": "caf54a8d-4a1b-4777-b3c5-a9d94343dc02",
   "metadata": {},
   "source": [
    "# Import Libraries"
   ]
  },
  {
   "cell_type": "code",
   "execution_count": null,
   "id": "df55371f-da49-43dd-9cbb-aadcc8e3946e",
   "metadata": {},
   "outputs": [],
   "source": [
    "import numpy as np\n",
    "import pandas as pd\n",
    "import matplotlib.pyplot as plt\n",
    "import seaborn as sns\n",
    "import tensorflow as tf\n",
    "import nltk\n",
    "import re\n",
    "import string\n",
    "import pickle\n",
    "from nltk.corpus import stopwords\n",
    "from nltk import word_tokenize\n",
    "from nltk import WordNetLemmatizer\n",
    "from collections import Counter\n",
    "from tqdm import tqdm\n",
    "from sklearn.model_selection import train_test_split\n",
    "from nltk.sentiment import SentimentIntensityAnalyzer\n",
    "from wordcloud import WordCloud\n",
    "from tensorflow.keras.layers import LSTM, Dense , Embedding\n",
    "from tensorflow.keras.preprocessing.text import Tokenizer\n",
    "from tensorflow.keras.preprocessing.sequence import pad_sequences\n",
    "from tensorflow.keras.models import Sequential\n",
    "from tensorflow.keras.callbacks import EarlyStopping\n",
    "from tensorflow.keras.utils import to_categorical\n",
    "from sklearn.metrics import accuracy_score, confusion_matrix, classification_report\n",
    "from mlxtend.plotting import plot_confusion_matrix\n",
    "import warnings\n",
    "warnings.filterwarnings(\"ignore\", category=FutureWarning)"
   ]
  },
  {
   "cell_type": "markdown",
   "id": "1d028943-0e01-4d40-8df2-c46b62d1581b",
   "metadata": {},
   "source": [
    "# Load Data"
   ]
  },
  {
   "cell_type": "code",
   "execution_count": null,
   "id": "7bc26231-0490-406c-ba48-77645a4f24c5",
   "metadata": {},
   "outputs": [],
   "source": [
    "df = pd.read_csv(\"/mnt/hdd/Datasets/mr_robot.csv\")\n",
    "df.head()"
   ]
  },
  {
   "cell_type": "code",
   "execution_count": null,
   "id": "117b61fe-fc78-4dfe-9324-fdefa39e4fce",
   "metadata": {},
   "outputs": [],
   "source": [
    "df.shape"
   ]
  },
  {
   "cell_type": "code",
   "execution_count": null,
   "id": "ac96fb2a-4a1a-4c00-aa94-ee7138e035a4",
   "metadata": {},
   "outputs": [],
   "source": [
    "df.isnull().sum()"
   ]
  },
  {
   "cell_type": "code",
   "execution_count": null,
   "id": "725c8fb1-19db-474f-95a8-b705a1d5361a",
   "metadata": {},
   "outputs": [],
   "source": [
    "df.info()"
   ]
  },
  {
   "cell_type": "markdown",
   "id": "f8d39d02-3845-41ce-882e-ce4a0c108dd7",
   "metadata": {},
   "source": [
    "# EDA"
   ]
  },
  {
   "cell_type": "code",
   "execution_count": null,
   "id": "2d5f0d6a-edb4-437f-803a-5862311ac9a0",
   "metadata": {},
   "outputs": [],
   "source": [
    "episode_rating_sorted = df.sort_values(by=\"IMDb Rating\", ascending=False)[[\"Episode Title\", \"IMDb Rating\"]]\n",
    "episode_rating_sorted.head()"
   ]
  },
  {
   "cell_type": "code",
   "execution_count": null,
   "id": "decb4d1b-d8d1-4529-9703-c72c83de6133",
   "metadata": {},
   "outputs": [],
   "source": [
    "plt.figure()\n",
    "ax = sns.barplot(data=episode_rating_sorted.head(10), y=\"Episode Title\", x=\"IMDb Rating\")\n",
    "ax.bar_label(ax.containers[0])\n",
    "ax.set_title(\"Best 10 Episodes according to IMDB Ratings\")\n",
    "plt.show()"
   ]
  },
  {
   "cell_type": "code",
   "execution_count": null,
   "id": "5f366f6d-2923-402a-bd60-90acc0048e16",
   "metadata": {},
   "outputs": [],
   "source": [
    "plt.figure()\n",
    "ax = sns.barplot(data=episode_rating_sorted.tail(10), y=\"Episode Title\", x=\"IMDb Rating\")\n",
    "ax.bar_label(ax.containers[0])\n",
    "ax.set_title(\"Worst 10 Episodes according to IMDb Ratings\")\n",
    "plt.show()"
   ]
  },
  {
   "cell_type": "code",
   "execution_count": null,
   "id": "07a5ff84-fbe0-482f-a7d3-ac646754d83d",
   "metadata": {},
   "outputs": [],
   "source": [
    "def total_minute(runtime):\n",
    "    t = 0\n",
    "    for u in runtime.split(\":\")[:2]:\n",
    "        t = 60 * t + int(u)\n",
    "    return t"
   ]
  },
  {
   "cell_type": "code",
   "execution_count": null,
   "id": "05669c9a-1579-4152-89eb-7580c38ab2ee",
   "metadata": {},
   "outputs": [],
   "source": [
    "total_minute(\"01:02:00\")"
   ]
  },
  {
   "cell_type": "code",
   "execution_count": null,
   "id": "70a2639b-ffd9-4dc6-91bd-202256dac5e4",
   "metadata": {},
   "outputs": [],
   "source": [
    "df[\"Runtime Minutes\"] = df[\"Runtime\"].apply(total_minute)\n",
    "df[\"Runtime Minutes\"] = df[\"Runtime Minutes\"].astype(\"int\")"
   ]
  },
  {
   "cell_type": "code",
   "execution_count": null,
   "id": "e25003ea-7068-451f-9fe8-92c1b2b9b105",
   "metadata": {},
   "outputs": [],
   "source": [
    "df.head()"
   ]
  },
  {
   "cell_type": "code",
   "execution_count": null,
   "id": "0cf4f1c8-3634-4262-b7d2-33857d1efbd9",
   "metadata": {},
   "outputs": [],
   "source": [
    "episode_runtime_sorted = df.sort_values(by=\"Runtime Minutes\", ascending=False)[[\"Episode Title\", \"Runtime Minutes\"]]\n",
    "episode_runtime_sorted.head()"
   ]
  },
  {
   "cell_type": "code",
   "execution_count": null,
   "id": "b6ebcf79-4221-4c4a-8ac7-30b48564b4f7",
   "metadata": {},
   "outputs": [],
   "source": [
    "plt.figure()\n",
    "ax = sns.barplot(data=episode_runtime_sorted.head(10), y=\"Episode Title\", x=\"Runtime Minutes\")\n",
    "ax.bar_label(ax.containers[0])\n",
    "ax.set_title(\"Longest 10 Episodes\")\n",
    "plt.show()"
   ]
  },
  {
   "cell_type": "code",
   "execution_count": null,
   "id": "b27d6262-afc9-4ee8-81b5-4fe9e766bf21",
   "metadata": {},
   "outputs": [],
   "source": [
    "plt.figure()\n",
    "ax = sns.barplot(data=episode_runtime_sorted.tail(10), y=\"Episode Title\", x=\"Runtime Minutes\")\n",
    "ax.bar_label(ax.containers[0])\n",
    "ax.set_title(\"Shortest 10 Episodes\")\n",
    "plt.show()"
   ]
  },
  {
   "cell_type": "code",
   "execution_count": null,
   "id": "cd4ab7a4-2ae8-45fb-9f71-e6f8f365c1c6",
   "metadata": {},
   "outputs": [],
   "source": [
    "def find_season(text):\n",
    "    season = text.split(\"-\")[0].strip()\n",
    "    season = season.replace(\"S\", \"\")\n",
    "    return season"
   ]
  },
  {
   "cell_type": "code",
   "execution_count": null,
   "id": "30f0c769-5a36-4819-9603-e8c79b7af45f",
   "metadata": {},
   "outputs": [],
   "source": [
    "df[\"Season\"] = df[\"Season/Episode\"].apply(find_season)"
   ]
  },
  {
   "cell_type": "code",
   "execution_count": null,
   "id": "b63f679f-35a7-4212-8a97-ab8d6ecbd45a",
   "metadata": {},
   "outputs": [],
   "source": [
    "df.head()"
   ]
  },
  {
   "cell_type": "code",
   "execution_count": null,
   "id": "1e023d18-a244-4d9d-bd72-142a75956323",
   "metadata": {},
   "outputs": [],
   "source": [
    "ratings_per_season =  df.groupby(by=\"Season\", as_index=False)[[\"IMDb Rating\"]].mean()\n",
    "ratings_per_season"
   ]
  },
  {
   "cell_type": "code",
   "execution_count": null,
   "id": "db62e4c3-c3c3-42c9-9db5-ff00baeb4672",
   "metadata": {},
   "outputs": [],
   "source": [
    "plt.figure()\n",
    "ax = sns.barplot(data=ratings_per_season, x=\"Season\", y=\"IMDb Rating\")\n",
    "ax.bar_label(ax.containers[0])\n",
    "plt.xlabel(\"Season\")\n",
    "plt.ylabel(\"Rating\")\n",
    "plt.title(\"Ratings per Season\")\n",
    "plt.show()"
   ]
  },
  {
   "cell_type": "code",
   "execution_count": null,
   "id": "b0f4266f-8309-49dc-a577-3f0710736e5c",
   "metadata": {},
   "outputs": [],
   "source": [
    "runtime_per_season =  df.groupby(by=\"Season\", as_index=False)[[\"Runtime Minutes\"]].sum()\n",
    "runtime_per_season"
   ]
  },
  {
   "cell_type": "code",
   "execution_count": null,
   "id": "ca1438b1-0173-4e8d-b105-32697e0a5890",
   "metadata": {},
   "outputs": [],
   "source": [
    "plt.figure()\n",
    "plt.pie(runtime_per_season[\"Runtime Minutes\"], labels=runtime_per_season[\"Season\"], autopct=\"%.2f%%\", startangle=90)\n",
    "plt.title(\"Minutes per Season\")\n",
    "plt.legend(loc=\"lower right\")\n",
    "plt.show()"
   ]
  },
  {
   "cell_type": "code",
   "execution_count": null,
   "id": "e8dcd577-86a0-48ed-a9b2-5b54a5d3d2b9",
   "metadata": {},
   "outputs": [],
   "source": [
    "sentiment_analyzer = SentimentIntensityAnalyzer()"
   ]
  },
  {
   "cell_type": "code",
   "execution_count": null,
   "id": "bd369e58-8a55-4c5a-9fc8-deeb8334db9a",
   "metadata": {},
   "outputs": [],
   "source": [
    "neg = []\n",
    "neu = []\n",
    "pos = []"
   ]
  },
  {
   "cell_type": "code",
   "execution_count": null,
   "id": "861a130e-5e51-40c3-a812-44160b753301",
   "metadata": {},
   "outputs": [],
   "source": [
    "def sentiment_score(text):\n",
    "    score = sentiment_analyzer.polarity_scores(text)\n",
    "    neg.append(score.get(\"neg\"))\n",
    "    neu.append(score.get(\"neu\"))\n",
    "    pos.append(score.get(\"pos\"))\n",
    "    scores = [score.get(\"neg\"), score.get(\"neu\"), score.get(\"pos\")]\n",
    "    labels = [\"NEGATIVE\", \"NEUTRAL\", \"POSITIVE\"]\n",
    "    maxi_idx = scores.index(max(scores))\n",
    "    res = labels[maxi_idx]\n",
    "    return res"
   ]
  },
  {
   "cell_type": "code",
   "execution_count": null,
   "id": "bef92a02-036c-4fe2-8cb6-b6e813c845c7",
   "metadata": {},
   "outputs": [],
   "source": [
    "df[\"Sentiment\"] = df[\"Storyline\"].apply(sentiment_score)"
   ]
  },
  {
   "cell_type": "code",
   "execution_count": null,
   "id": "e06d0ef2-870f-4309-be9d-738d241c1826",
   "metadata": {},
   "outputs": [],
   "source": [
    "df.head()"
   ]
  },
  {
   "cell_type": "code",
   "execution_count": null,
   "id": "8e99618a-4bba-4b05-8d03-d17ed04d17b9",
   "metadata": {},
   "outputs": [],
   "source": [
    "df[\"Sentiment\"].value_counts()"
   ]
  },
  {
   "cell_type": "code",
   "execution_count": null,
   "id": "ad3b89b7-5eba-44e2-b79e-0df4b124075c",
   "metadata": {},
   "outputs": [],
   "source": [
    "df[\"Neg_Score\"] = neg\n",
    "df[\"Neu_Score\"] = neu\n",
    "df[\"Pos_Score\"] = pos"
   ]
  },
  {
   "cell_type": "code",
   "execution_count": null,
   "id": "c95bdc9b-42e2-40da-9dc1-0a80f6bcb889",
   "metadata": {},
   "outputs": [],
   "source": [
    "df.head()"
   ]
  },
  {
   "cell_type": "code",
   "execution_count": null,
   "id": "4dcdd5d0-9b4d-453a-8811-bf338fd2ae3c",
   "metadata": {},
   "outputs": [],
   "source": [
    "sentiment_per_episode = df.groupby(by=\"Season\", as_index=False)[[\"Neg_Score\", \"Neu_Score\", \"Pos_Score\"]].mean()\n",
    "sentiment_per_episode"
   ]
  },
  {
   "cell_type": "code",
   "execution_count": null,
   "id": "a6a3efb9-0f97-494d-b4dd-10a9a219c05e",
   "metadata": {},
   "outputs": [],
   "source": [
    "plt.figure()\n",
    "ax = sns.barplot(data=sentiment_per_episode, x=\"Season\", y=\"Neg_Score\")\n",
    "ax.bar_label(ax.containers[0])\n",
    "plt.title(\"Negative Sentiment Rate per Season\")\n",
    "plt.show()"
   ]
  },
  {
   "cell_type": "code",
   "execution_count": null,
   "id": "c343ba71-6747-4f05-b102-d64a273972dd",
   "metadata": {},
   "outputs": [],
   "source": [
    "plt.figure()\n",
    "ax = sns.barplot(data=sentiment_per_episode, x=\"Season\", y=\"Neu_Score\")\n",
    "ax.bar_label(ax.containers[0])\n",
    "plt.title(\"Neutral Sentiment Rate per Season\")\n",
    "plt.show()"
   ]
  },
  {
   "cell_type": "code",
   "execution_count": null,
   "id": "76700fdc-b4f2-46cf-8dfe-91f0792bfcbf",
   "metadata": {},
   "outputs": [],
   "source": [
    "plt.figure()\n",
    "ax = sns.barplot(data=sentiment_per_episode, x=\"Season\", y=\"Pos_Score\")\n",
    "ax.bar_label(ax.containers[0])\n",
    "plt.title(\"Positive Sentiment Rate per Season\")\n",
    "plt.show()"
   ]
  },
  {
   "cell_type": "code",
   "execution_count": null,
   "id": "a1adfae9-114a-46dc-b78d-474fd1b3be1c",
   "metadata": {},
   "outputs": [],
   "source": [
    "ep1_story = \" \".join(df[df[\"Season\"] == \"1\"][\"Storyline\"])\n",
    "ep1_story"
   ]
  },
  {
   "cell_type": "code",
   "execution_count": null,
   "id": "e6535e50-1741-4109-9569-139896207d2d",
   "metadata": {},
   "outputs": [],
   "source": [
    "ep2_story = \" \".join(df[df[\"Season\"] == \"2\"][\"Storyline\"])\n",
    "ep2_story"
   ]
  },
  {
   "cell_type": "code",
   "execution_count": null,
   "id": "25d0ea0b-19ae-4f67-92bb-5914301252d5",
   "metadata": {},
   "outputs": [],
   "source": [
    "ep3_story = \" \".join(df[df[\"Season\"] == \"3\"][\"Storyline\"])\n",
    "ep3_story"
   ]
  },
  {
   "cell_type": "code",
   "execution_count": null,
   "id": "ddc2e2c1-cd52-48d5-9c67-7d4dbe57c37c",
   "metadata": {},
   "outputs": [],
   "source": [
    "ep4_story = \" \".join(df[df[\"Season\"] == \"4\"][\"Storyline\"])\n",
    "ep4_story"
   ]
  },
  {
   "cell_type": "code",
   "execution_count": null,
   "id": "2bd5022e-4e8c-408b-b086-154b732a7478",
   "metadata": {},
   "outputs": [],
   "source": [
    "def word_freq(words, title):\n",
    "    freq_words = words.split(\" \")\n",
    "    freq_words = [i.lower() for i in freq_words]\n",
    "    freq_punc = []\n",
    "\n",
    "    for o in freq_words:\n",
    "        freq_punc += nltk.word_tokenize(o)\n",
    "\n",
    "    freq_punc = [o for o in freq_punc if o not in string.punctuation]\n",
    "    freq_freq = Counter(freq_punc)\n",
    "\n",
    "    freq_top = freq_freq.most_common(15)\n",
    "\n",
    "    words = [word for word, _ in freq_top]\n",
    "    counts = [count for _, count in freq_top]\n",
    "\n",
    "    plt.barh(words, counts)\n",
    "    plt.title(title)\n",
    "    plt.xlabel(\"Frequency\")\n",
    "    plt.ylabel(\"Words\")\n",
    "    plt.show()\n",
    "\n",
    "    return freq_top"
   ]
  },
  {
   "cell_type": "code",
   "execution_count": null,
   "id": "ec2aa082-2276-4c56-ab20-638b40ca727b",
   "metadata": {},
   "outputs": [],
   "source": [
    "def print_wordcloud(freq_top):\n",
    "    dict_top = dict(freq_top)\n",
    "    wordcloud = WordCloud(width=350, height=350, background_color=\"black\", min_font_size=5).generate_from_frequencies(dict_top)\n",
    "    plt.figure()\n",
    "    plt.imshow(wordcloud)\n",
    "    plt.axis(\"off\")\n",
    "    plt.tight_layout(pad=0)\n",
    "    plt.show()"
   ]
  },
  {
   "cell_type": "code",
   "execution_count": null,
   "id": "fddd2e54-d604-4ee1-ba34-699e524fa6b1",
   "metadata": {},
   "outputs": [],
   "source": [
    "ep1_freq_top = word_freq(ep1_story, \"TOP 15 Words in Episode 1 Storyline\")"
   ]
  },
  {
   "cell_type": "code",
   "execution_count": null,
   "id": "1043735a-6c62-4e7b-98f2-21a427079be5",
   "metadata": {},
   "outputs": [],
   "source": [
    "print_wordcloud(ep1_freq_top)"
   ]
  },
  {
   "cell_type": "code",
   "execution_count": null,
   "id": "9ad4622c-9f5b-4f12-aea9-a833274bbc39",
   "metadata": {},
   "outputs": [],
   "source": [
    "ep2_freq_top = word_freq(ep2_story, \"TOP 15 Words in Episode 2 Storyline\")"
   ]
  },
  {
   "cell_type": "code",
   "execution_count": null,
   "id": "c1f889c7-3b57-4bb5-89db-5a18db54d630",
   "metadata": {},
   "outputs": [],
   "source": [
    "print_wordcloud(ep2_freq_top)"
   ]
  },
  {
   "cell_type": "code",
   "execution_count": null,
   "id": "be45c12d-e378-4a29-82d6-24124e0af14b",
   "metadata": {},
   "outputs": [],
   "source": [
    "ep3_freq_top = word_freq(ep3_story, \"TOP 15 Words in Episode 3 Storyline\")"
   ]
  },
  {
   "cell_type": "code",
   "execution_count": null,
   "id": "a5eec1e4-79e9-4a7e-84ed-b916c07c3157",
   "metadata": {},
   "outputs": [],
   "source": [
    "print_wordcloud(ep3_freq_top)"
   ]
  },
  {
   "cell_type": "code",
   "execution_count": null,
   "id": "f3ae975e-9206-41ce-9604-5eecf469fd53",
   "metadata": {},
   "outputs": [],
   "source": [
    "ep4_freq_top = word_freq(ep4_story, \"TOP 15 Words in Episode 4 Storyline\")"
   ]
  },
  {
   "cell_type": "code",
   "execution_count": null,
   "id": "256e337a-9720-46de-854d-5ace610fe236",
   "metadata": {},
   "outputs": [],
   "source": [
    "print_wordcloud(ep4_freq_top)"
   ]
  },
  {
   "cell_type": "markdown",
   "id": "86423f62-de55-46c7-b6f8-dd19359ebdbc",
   "metadata": {},
   "source": [
    "# Preprocess"
   ]
  },
  {
   "cell_type": "code",
   "execution_count": null,
   "id": "c02ede56-0a27-4645-80fb-7afa3fc1cdc0",
   "metadata": {},
   "outputs": [],
   "source": [
    "df.head()"
   ]
  },
  {
   "cell_type": "code",
   "execution_count": null,
   "id": "9fbe42b0-f2f1-4b8b-8146-f5ec25ff30f9",
   "metadata": {},
   "outputs": [],
   "source": [
    "story_df = df[[\"Storyline\", \"Season\"]]\n",
    "story_df.head()"
   ]
  },
  {
   "cell_type": "code",
   "execution_count": null,
   "id": "27a56fa2-a01e-4406-b963-9287bbaa4020",
   "metadata": {},
   "outputs": [],
   "source": [
    "stop_words = set(stopwords.words(\"english\"))"
   ]
  },
  {
   "cell_type": "code",
   "execution_count": null,
   "id": "cbea6bca-041c-416a-b680-7182a177b85a",
   "metadata": {},
   "outputs": [],
   "source": [
    "def clean(text):\n",
    "    text = re.sub(r\"[^\\w\\s]\", \"\", text)\n",
    "    text = text.lower()\n",
    "    text = re.sub(r\"\\d+\", \"\", text)\n",
    "    text = \" \".join([word for word in text.split() if word not in stop_words])\n",
    "    lemmatizer = WordNetLemmatizer()\n",
    "    text = \" \".join([lemmatizer.lemmatize(word) for word in text.split()])\n",
    "    text = text.strip()\n",
    "    return text"
   ]
  },
  {
   "cell_type": "code",
   "execution_count": null,
   "id": "bb88c90c-6a91-4e6c-9168-251ab3c294f2",
   "metadata": {},
   "outputs": [],
   "source": [
    "story_df[\"Cleaned\"] = story_df[\"Storyline\"].apply(clean)"
   ]
  },
  {
   "cell_type": "code",
   "execution_count": null,
   "id": "f64d25b3-cc65-4db5-b860-dccbd04ee211",
   "metadata": {},
   "outputs": [],
   "source": [
    "story_df.head()"
   ]
  },
  {
   "cell_type": "code",
   "execution_count": null,
   "id": "aba126c2-af42-44b2-845d-2e7c42020b35",
   "metadata": {},
   "outputs": [],
   "source": [
    "story_df.info()"
   ]
  },
  {
   "cell_type": "code",
   "execution_count": null,
   "id": "a62ce48b-09e2-4f69-8e35-0cd36c5141fa",
   "metadata": {},
   "outputs": [],
   "source": [
    "story_df[\"Season\"] = story_df[\"Season\"].apply(pd.to_numeric)"
   ]
  },
  {
   "cell_type": "code",
   "execution_count": null,
   "id": "cd2c1c0c-fcf2-431d-9811-d12c0935a136",
   "metadata": {},
   "outputs": [],
   "source": [
    "story_df = story_df.sample(frac=1).reset_index(drop=True)"
   ]
  },
  {
   "cell_type": "markdown",
   "id": "81309ac7-39a0-4603-b35e-a587cfd7b7e7",
   "metadata": {},
   "source": [
    "# Model"
   ]
  },
  {
   "cell_type": "code",
   "execution_count": null,
   "id": "272dff2e-fdaa-49ba-bb47-3f346fd7823f",
   "metadata": {},
   "outputs": [],
   "source": [
    "X = story_df[\"Cleaned\"]\n",
    "y = story_df[\"Season\"]"
   ]
  },
  {
   "cell_type": "code",
   "execution_count": null,
   "id": "18105859-90d4-44c7-88eb-e4f7ca131bbb",
   "metadata": {},
   "outputs": [],
   "source": [
    "X_train, X_test, y_train, y_test = train_test_split(X, y, test_size=0.2, random_state=2)"
   ]
  },
  {
   "cell_type": "code",
   "execution_count": null,
   "id": "bca0f9bb-5fef-404c-8da7-8743886a34c2",
   "metadata": {},
   "outputs": [],
   "source": [
    "maxlen = max([len(text) for text in X])\n",
    "maxlen"
   ]
  },
  {
   "cell_type": "code",
   "execution_count": null,
   "id": "c3626a81-055f-4a77-b375-2c1e02b3d1f1",
   "metadata": {},
   "outputs": [],
   "source": [
    "tokenizer = Tokenizer()\n",
    "tokenizer.fit_on_texts(X)"
   ]
  },
  {
   "cell_type": "code",
   "execution_count": null,
   "id": "f149de28-d18d-45d3-be24-25918fa40225",
   "metadata": {},
   "outputs": [],
   "source": [
    "with open(\"tokenizer.pkl\", \"wb\") as tokenizer_file:\n",
    "    pickle.dump(tokenizer, tokenizer_file)"
   ]
  },
  {
   "cell_type": "code",
   "execution_count": null,
   "id": "fef0ee35-f05e-47cf-bb5b-14d7135ce554",
   "metadata": {},
   "outputs": [],
   "source": [
    "X_train = tokenizer.texts_to_sequences(X_train)\n",
    "X_train = pad_sequences(X_train, maxlen=maxlen)\n",
    "\n",
    "X_test = tokenizer.texts_to_sequences(X_test)\n",
    "X_test = pad_sequences(X_test, maxlen=maxlen)"
   ]
  },
  {
   "cell_type": "code",
   "execution_count": null,
   "id": "9ddf613c-589e-44bd-a94d-fa5cc705463e",
   "metadata": {},
   "outputs": [],
   "source": [
    "input_dim = len(tokenizer.word_index) + 1\n",
    "input_dim"
   ]
  },
  {
   "cell_type": "code",
   "execution_count": null,
   "id": "f8aed95b-4710-438f-b0bf-4fc230327ddb",
   "metadata": {},
   "outputs": [],
   "source": [
    "model = tf.keras.Sequential([\n",
    "    tf.keras.layers.Embedding(input_dim=input_dim, output_dim=32, input_length=maxlen),\n",
    "    tf.keras.layers.LSTM(64),\n",
    "    tf.keras.layers.Dense(5, activation='softmax')\n",
    "])"
   ]
  },
  {
   "cell_type": "code",
   "execution_count": null,
   "id": "17f5a272-6bbc-4019-a745-2326f7ca6ab6",
   "metadata": {},
   "outputs": [],
   "source": [
    "model.summary()"
   ]
  },
  {
   "cell_type": "code",
   "execution_count": null,
   "id": "64789191-62da-4882-9e6b-5dd37e3bc86e",
   "metadata": {},
   "outputs": [],
   "source": [
    "model.compile(optimizer='adam', loss='sparse_categorical_crossentropy', metrics=['accuracy'])"
   ]
  },
  {
   "cell_type": "code",
   "execution_count": null,
   "id": "ddc01cba-df26-42f4-a378-210c9ce744e2",
   "metadata": {},
   "outputs": [],
   "source": [
    "callbacks = [EarlyStopping(monitor=\"val_loss\", patience=5)]"
   ]
  },
  {
   "cell_type": "code",
   "execution_count": null,
   "id": "1912fd4b-336a-4ffc-9eed-e48141238e4b",
   "metadata": {},
   "outputs": [],
   "source": [
    "history = model.fit(X_train, y_train, epochs=10, validation_split=0.2, batch_size=2, callbacks=callbacks)"
   ]
  },
  {
   "cell_type": "code",
   "execution_count": null,
   "id": "b9dc5c08-0f4e-451e-9727-a3acce2c25c6",
   "metadata": {},
   "outputs": [],
   "source": [
    "model.save(\"mr_robot.h5\")"
   ]
  },
  {
   "cell_type": "code",
   "execution_count": null,
   "id": "2d05da18-ddb5-41bf-95bf-dc6082f5d585",
   "metadata": {},
   "outputs": [],
   "source": [
    "plt.figure()\n",
    "plt.plot(history.history[\"accuracy\"], label=\"train\")\n",
    "plt.plot(history.history[\"val_accuracy\"], label=\"valid\")\n",
    "plt.title(\"Model Accuracy\")\n",
    "plt.xlabel(\"Epochs\")\n",
    "plt.ylabel(\"Accuracy %\")\n",
    "plt.legend()\n",
    "plt.show()"
   ]
  },
  {
   "cell_type": "code",
   "execution_count": null,
   "id": "a7b49d14-d9a2-49cc-99f8-e04945d209f6",
   "metadata": {},
   "outputs": [],
   "source": [
    "plt.figure()\n",
    "plt.plot(history.history[\"loss\"], label=\"train\")\n",
    "plt.plot(history.history[\"val_loss\"], label=\"valid\")\n",
    "plt.title(\"Model Loss\")\n",
    "plt.xlabel(\"Epochs\")\n",
    "plt.ylabel(\"Loss %\")\n",
    "plt.legend()\n",
    "plt.show()"
   ]
  },
  {
   "cell_type": "code",
   "execution_count": null,
   "id": "81555fa4-8f3b-415c-bc8c-4ded38b49c64",
   "metadata": {},
   "outputs": [],
   "source": [
    "y_pred = model.predict(X_test)\n",
    "y_pred = [np.argmax(i) for i in y_pred]"
   ]
  },
  {
   "cell_type": "code",
   "execution_count": null,
   "id": "20d4238c-544d-4ac2-8e56-5f927e5f5184",
   "metadata": {},
   "outputs": [],
   "source": [
    "y_test"
   ]
  },
  {
   "cell_type": "code",
   "execution_count": null,
   "id": "d9359aaf-8d33-403e-9685-43a8531c09af",
   "metadata": {},
   "outputs": [],
   "source": [
    "print(\"Accuracy:\", accuracy_score(y_test, y_pred))"
   ]
  },
  {
   "cell_type": "code",
   "execution_count": null,
   "id": "a32aef09-b178-4c03-bf5c-b6234dcb12fa",
   "metadata": {},
   "outputs": [],
   "source": [
    "cm = confusion_matrix(y_test, y_pred)\n",
    "class_names = [\"1\", \"2\", \"3\", \"4\"]\n",
    "plot_confusion_matrix(conf_mat=cm, show_absolute=True, show_normed=True, colorbar=True, class_names=class_names)\n",
    "plt.title(\"Model Confusion Matrix\")\n",
    "plt.show()"
   ]
  },
  {
   "cell_type": "code",
   "execution_count": null,
   "id": "3e62e86a-ce51-449d-bc81-c9ac0690bcb4",
   "metadata": {},
   "outputs": [],
   "source": [
    "content = \"Elliot tries to live a bug-free life.\"\n",
    "context_clean = clean(content)\n",
    "test = tokenizer.texts_to_sequences([context_clean])\n",
    "test = pad_sequences(test, maxlen=maxlen)\n",
    "res = model.predict(test)\n",
    "print(res)\n",
    "res = np.argmax(res)\n",
    "print(res)"
   ]
  },
  {
   "cell_type": "code",
   "execution_count": null,
   "id": "7e649439-4094-40a4-b7ee-3019fd804246",
   "metadata": {},
   "outputs": [],
   "source": []
  }
 ],
 "metadata": {
  "kernelspec": {
   "display_name": "Python 3 (ipykernel)",
   "language": "python",
   "name": "python3"
  },
  "language_info": {
   "codemirror_mode": {
    "name": "ipython",
    "version": 3
   },
   "file_extension": ".py",
   "mimetype": "text/x-python",
   "name": "python",
   "nbconvert_exporter": "python",
   "pygments_lexer": "ipython3",
   "version": "3.10.12"
  }
 },
 "nbformat": 4,
 "nbformat_minor": 5
}
